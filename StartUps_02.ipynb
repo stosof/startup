{
 "cells": [
  {
   "cell_type": "code",
   "execution_count": 1,
   "metadata": {
    "collapsed": false
   },
   "outputs": [],
   "source": [
    "import pandas as pd\n",
    "import numpy as np \n",
    "from bokeh.plotting import figure, show, output_file\n",
    "from bokeh.models import ColumnDataSource, Range1d, LabelSet, Label\n",
    "import math\n",
    "import sklearn\n",
    "\n",
    "#Read data from csv\n",
    "df_orig_data = pd.read_csv(\"data.csv\")\n",
    "#Drop CAX_ID column\n",
    "df_orig_data = df_orig_data.iloc[:,1:]\n"
   ]
  },
  {
   "cell_type": "code",
   "execution_count": 2,
   "metadata": {
    "collapsed": true
   },
   "outputs": [],
   "source": [
    "#Select numerical and non-numerical features"
   ]
  },
  {
   "cell_type": "code",
   "execution_count": 3,
   "metadata": {
    "collapsed": false
   },
   "outputs": [],
   "source": [
    "numerical_col_names = list(df_orig_data.select_dtypes(include=[np.number]).columns.values)\n",
    "non_numerical_col_names = list(df_orig_data.select_dtypes(exclude=[np.number]).columns.values)"
   ]
  },
  {
   "cell_type": "code",
   "execution_count": 4,
   "metadata": {
    "collapsed": true
   },
   "outputs": [],
   "source": [
    "#One-hot encoding for categorical variables"
   ]
  },
  {
   "cell_type": "code",
   "execution_count": 5,
   "metadata": {
    "collapsed": true
   },
   "outputs": [],
   "source": [
    "cat_vars = non_numerical_col_names\n",
    "data = df_orig_data\n",
    "for i in range(len(non_numerical_col_names)):\n",
    "    cat_list = pd.get_dummies(data.loc[:,non_numerical_col_names[i]], prefix = non_numerical_col_names[i])\n",
    "    data1 = pd.concat([data, cat_list], axis=1)\n",
    "    data = data1\n",
    "    \n",
    "cat_vars = non_numerical_col_names\n",
    "data_vars = data.columns.values.tolist()\n",
    "to_keep = [i for i in data_vars if i not in cat_vars]\n",
    "data_final = data[to_keep]\n",
    "data_final_vars = data.columns.values.tolist()\n",
    "y = ['Dependent']\n",
    "X = [i for i in data_final if i not in y]\n",
    "data_final = data[X]\n",
    "y_final = data[y]"
   ]
  },
  {
   "cell_type": "code",
   "execution_count": 6,
   "metadata": {
    "collapsed": true
   },
   "outputs": [],
   "source": [
    "#Perform RFE and Cross-Validation"
   ]
  },
  {
   "cell_type": "code",
   "execution_count": 7,
   "metadata": {
    "collapsed": false
   },
   "outputs": [
    {
     "name": "stderr",
     "output_type": "stream",
     "text": [
      "C:\\Users\\stoian\\Anaconda2\\lib\\site-packages\\sklearn\\utils\\validation.py:526: DataConversionWarning: A column-vector y was passed when a 1d array was expected. Please change the shape of y to (n_samples, ), for example using ravel().\n",
      "  y = column_or_1d(y, warn=True)\n"
     ]
    },
    {
     "name": "stdout",
     "output_type": "stream",
     "text": [
      "('Accuracy of logistic regression classifier over all sets: {:.2f}', 0.63565217391304341)\n",
      "('Accuracy of logistic regression classifier over all sets: {:.2f}', 0.53130434782608693)\n",
      "('Accuracy of logistic regression classifier over all sets: {:.2f}', 0.64399999999999991)\n",
      "('Accuracy of logistic regression classifier over all sets: {:.2f}', 0.52347826086956517)\n",
      "('Accuracy of logistic regression classifier over all sets: {:.2f}', 0.52817391304347827)\n",
      "('Accuracy of logistic regression classifier over all sets: {:.2f}', 0.58469565217391306)\n",
      "('Accuracy of logistic regression classifier over all sets: {:.2f}', 0.52817391304347827)\n",
      "('Accuracy of logistic regression classifier over all sets: {:.2f}', 0.53217391304347827)\n",
      "('Accuracy of logistic regression classifier over all sets: {:.2f}', 0.56660869565217387)\n",
      "('Accuracy of logistic regression classifier over all sets: {:.2f}', 0.56660869565217387)\n",
      "('Accuracy of logistic regression classifier over all sets: {:.2f}', 0.59408695652173904)\n",
      "('Accuracy of logistic regression classifier over all sets: {:.2f}', 0.6326956521739131)\n",
      "('Accuracy of logistic regression classifier over all sets: {:.2f}', 0.62939130434782598)\n",
      "('Accuracy of logistic regression classifier over all sets: {:.2f}', 0.62069565217391309)\n",
      "('Accuracy of logistic regression classifier over all sets: {:.2f}', 0.60939130434782607)\n",
      "('Accuracy of logistic regression classifier over all sets: {:.2f}', 0.62904347826086959)\n",
      "('Accuracy of logistic regression classifier over all sets: {:.2f}', 0.6203478260869566)\n",
      "('Accuracy of logistic regression classifier over all sets: {:.2f}', 0.6203478260869566)\n",
      "('Accuracy of logistic regression classifier over all sets: {:.2f}', 0.61599999999999999)\n",
      "('Accuracy of logistic regression classifier over all sets: {:.2f}', 0.6203478260869566)\n",
      "('Accuracy of logistic regression classifier over all sets: {:.2f}', 0.62069565217391309)\n",
      "('Accuracy of logistic regression classifier over all sets: {:.2f}', 0.62504347826086959)\n",
      "('Accuracy of logistic regression classifier over all sets: {:.2f}', 0.60834782608695659)\n",
      "('Accuracy of logistic regression classifier over all sets: {:.2f}', 0.59130434782608687)\n",
      "('Accuracy of logistic regression classifier over all sets: {:.2f}', 0.6029565217391305)\n",
      "('Accuracy of logistic regression classifier over all sets: {:.2f}', 0.59060869565217389)\n",
      "('Accuracy of logistic regression classifier over all sets: {:.2f}', 0.60365217391304349)\n",
      "('Accuracy of logistic regression classifier over all sets: {:.2f}', 0.59095652173913038)\n",
      "('Accuracy of logistic regression classifier over all sets: {:.2f}', 0.59095652173913038)\n",
      "('Accuracy of logistic regression classifier over all sets: {:.2f}', 0.57791304347826089)\n",
      "('Accuracy of logistic regression classifier over all sets: {:.2f}', 0.59095652173913049)\n",
      "('Accuracy of logistic regression classifier over all sets: {:.2f}', 0.59095652173913049)\n",
      "('Accuracy of logistic regression classifier over all sets: {:.2f}', 0.56260869565217386)\n",
      "('Accuracy of logistic regression classifier over all sets: {:.2f}', 0.57460869565217387)\n",
      "('Accuracy of logistic regression classifier over all sets: {:.2f}', 0.57460869565217387)\n",
      "('Accuracy of logistic regression classifier over all sets: {:.2f}', 0.57026086956521738)\n",
      "('Accuracy of logistic regression classifier over all sets: {:.2f}', 0.57460869565217387)\n",
      "('Accuracy of logistic regression classifier over all sets: {:.2f}', 0.56260869565217386)\n",
      "('Accuracy of logistic regression classifier over all sets: {:.2f}', 0.57060869565217387)\n",
      "('Accuracy of logistic regression classifier over all sets: {:.2f}', 0.56695652173913047)\n",
      "('Accuracy of logistic regression classifier over all sets: {:.2f}', 0.56695652173913047)\n",
      "('Accuracy of logistic regression classifier over all sets: {:.2f}', 0.56695652173913047)\n",
      "('Accuracy of logistic regression classifier over all sets: {:.2f}', 0.56695652173913047)\n",
      "('Accuracy of logistic regression classifier over all sets: {:.2f}', 0.56260869565217386)\n",
      "('Accuracy of logistic regression classifier over all sets: {:.2f}', 0.56626086956521737)\n",
      "('Accuracy of logistic regression classifier over all sets: {:.2f}', 0.57026086956521738)\n",
      "('Accuracy of logistic regression classifier over all sets: {:.2f}', 0.57026086956521738)\n",
      "('Accuracy of logistic regression classifier over all sets: {:.2f}', 0.57026086956521738)\n",
      "('Accuracy of logistic regression classifier over all sets: {:.2f}', 0.57026086956521738)\n",
      "('Accuracy of logistic regression classifier over all sets: {:.2f}', 0.56121739130434789)\n",
      "('Accuracy of logistic regression classifier over all sets: {:.2f}', 0.56556521739130428)\n",
      "('Accuracy of logistic regression classifier over all sets: {:.2f}', 0.57860869565217388)\n",
      "('Accuracy of logistic regression classifier over all sets: {:.2f}', 0.57860869565217388)\n",
      "('Accuracy of logistic regression classifier over all sets: {:.2f}', 0.56591304347826088)\n",
      "('Accuracy of logistic regression classifier over all sets: {:.2f}', 0.56591304347826088)\n",
      "('Accuracy of logistic regression classifier over all sets: {:.2f}', 0.56591304347826088)\n",
      "('Accuracy of logistic regression classifier over all sets: {:.2f}', 0.55721739130434789)\n",
      "('Accuracy of logistic regression classifier over all sets: {:.2f}', 0.55721739130434789)\n",
      "('Accuracy of logistic regression classifier over all sets: {:.2f}', 0.56156521739130427)\n",
      "('Accuracy of logistic regression classifier over all sets: {:.2f}', 0.55721739130434789)\n",
      "('Accuracy of logistic regression classifier over all sets: {:.2f}', 0.54417391304347829)\n",
      "('Accuracy of logistic regression classifier over all sets: {:.2f}', 0.54817391304347829)\n",
      "('Accuracy of logistic regression classifier over all sets: {:.2f}', 0.54817391304347829)\n",
      "('Accuracy of logistic regression classifier over all sets: {:.2f}', 0.52243478260869569)\n",
      "('Accuracy of logistic regression classifier over all sets: {:.2f}', 0.52643478260869569)\n",
      "('Accuracy of logistic regression classifier over all sets: {:.2f}', 0.53078260869565219)\n",
      "('Accuracy of logistic regression classifier over all sets: {:.2f}', 0.53513043478260869)\n",
      "('Accuracy of logistic regression classifier over all sets: {:.2f}', 0.53913043478260869)\n",
      "('Accuracy of logistic regression classifier over all sets: {:.2f}', 0.55217391304347829)\n",
      "('Accuracy of logistic regression classifier over all sets: {:.2f}', 0.54782608695652169)\n",
      "('Accuracy of logistic regression classifier over all sets: {:.2f}', 0.54782608695652169)\n",
      "('Accuracy of logistic regression classifier over all sets: {:.2f}', 0.54747826086956519)\n",
      "('Accuracy of logistic regression classifier over all sets: {:.2f}', 0.5518260869565218)\n",
      "('Accuracy of logistic regression classifier over all sets: {:.2f}', 0.5518260869565218)\n",
      "('Accuracy of logistic regression classifier over all sets: {:.2f}', 0.5387826086956522)\n",
      "('Accuracy of logistic regression classifier over all sets: {:.2f}', 0.54747826086956519)\n",
      "('Accuracy of logistic regression classifier over all sets: {:.2f}', 0.54747826086956519)\n",
      "('Accuracy of logistic regression classifier over all sets: {:.2f}', 0.53913043478260869)\n",
      "('Accuracy of logistic regression classifier over all sets: {:.2f}', 0.52643478260869569)\n"
     ]
    }
   ],
   "source": [
    "from sklearn import datasets\n",
    "from sklearn.feature_selection import RFE\n",
    "from sklearn.linear_model import LogisticRegression\n",
    "\n",
    "result = []\n",
    "for j in range(79): #len(list(data_final.columns.values))\n",
    "    \n",
    "    logreg = LogisticRegression()\n",
    "    num_features = j+1\n",
    "    rfe = RFE(logreg, num_features)\n",
    "    rfe = rfe.fit(data_final, y_final)\n",
    "\n",
    "    #Create a list of column names for features selected by RFE\n",
    "    data_final_col_names = data_final.columns.values\n",
    "    rfe_list = list(rfe.support_)\n",
    "    col_names_final = []\n",
    "    for i in range(len(data_final_col_names)):\n",
    "\n",
    "        if(rfe_list[i] == True):\n",
    "            col_names_final.append(data_final_col_names[i])\n",
    "\n",
    "\n",
    "    X = data_final.loc[:,col_names_final]\n",
    "    Y = y_final\n",
    "\n",
    "    \n",
    "    logreg = LogisticRegression()\n",
    "    from pandas import ExcelWriter\n",
    "\n",
    "    k = 5\n",
    "    a = len(X)/k\n",
    "    test_start = -a\n",
    "    train_len = len(X)\n",
    "    total_score = []\n",
    "    for i in range(k):\n",
    "\n",
    "        test_start = test_start + a\n",
    "        test_end = test_start + a\n",
    "        if train_len - test_end < a :\n",
    "            test_end = train_len\n",
    "    #     print start, end\n",
    "        train_01_start = 0\n",
    "        train_02_start = test_end\n",
    "        train_01_end = test_start\n",
    "        train_02_end = train_len\n",
    "\n",
    "        if test_end == train_len :\n",
    "            train_02_end = test_start\n",
    "\n",
    "        X_Train_01 = X.iloc[train_01_start:train_01_end,:]\n",
    "        X_Train_02 = X.iloc[train_02_start:train_02_end,:]\n",
    "        X_Train = X_Train_01.append(X_Train_02,ignore_index=True)\n",
    "        Y_Train_01 = Y.iloc[train_01_start:train_01_end,:]\n",
    "        Y_Train_02 = Y.iloc[train_02_start:train_02_end,:]\n",
    "        Y_Train = Y_Train_01.append(Y_Train_02,ignore_index=True)\n",
    "        X_Test = X.iloc[test_start:test_end,:]\n",
    "        Y_Test = Y.iloc[test_start:test_end,:]\n",
    "\n",
    "        logreg.fit(X_Train, Y_Train)\n",
    "        score = logreg.score(X_Test, Y_Test)\n",
    "        total_score.append(score)\n",
    "\n",
    "    score_overall = sum(total_score)/len(total_score)\n",
    "    result.append([num_features,score_overall])\n",
    "    print('Accuracy of logistic regression classifier over all sets: {:.2f}', score_overall)"
   ]
  },
  {
   "cell_type": "code",
   "execution_count": 8,
   "metadata": {
    "collapsed": false,
    "scrolled": true
   },
   "outputs": [
    {
     "name": "stdout",
     "output_type": "stream",
     "text": [
      "(0, 0)\n",
      "(46, 234)\n",
      "('Accuracy of SVM classifier on test set: {:.2f}', 0.47826086956521741)\n",
      "(0, 46)\n",
      "(92, 234)\n",
      "('Accuracy of SVM classifier on test set: {:.2f}', 0.54347826086956519)\n",
      "(0, 92)\n",
      "(138, 234)\n",
      "('Accuracy of SVM classifier on test set: {:.2f}', 0.47826086956521741)\n",
      "(0, 138)\n",
      "(184, 234)\n",
      "('Accuracy of SVM classifier on test set: {:.2f}', 0.43478260869565216)\n",
      "(0, 184)\n",
      "(234, 184)\n",
      "('Accuracy of SVM classifier on test set: {:.2f}', 0.35999999999999999)\n",
      "('Accuracy of SVM classifier over all sets: {:.2f}', 0.45895652173913043)\n"
     ]
    }
   ],
   "source": [
    "from sklearn import svm\n",
    "clf = svm.SVC()\n",
    "\n",
    "k = 5\n",
    "a = len(X)/k\n",
    "test_start = -a\n",
    "train_len = len(X)\n",
    "total_score = []\n",
    "for i in range(k):\n",
    "    \n",
    "    test_start = test_start + a\n",
    "    test_end = test_start + a\n",
    "    if train_len - test_end < a :\n",
    "        test_end = train_len\n",
    "\n",
    "    train_01_start = 0\n",
    "    train_02_start = test_end\n",
    "    train_01_end = test_start\n",
    "    train_02_end = train_len\n",
    "    \n",
    "    if test_end == train_len :\n",
    "        train_02_end = test_start\n",
    "    \n",
    "    print (train_01_start, train_01_end)\n",
    "    print (train_02_start, train_02_end)\n",
    "    \n",
    "    X_Train_01 = X.iloc[train_01_start:train_01_end,:]\n",
    "    X_Train_02 = X.iloc[train_02_start:train_02_end,:]\n",
    "    X_Train = X_Train_01.append(X_Train_02,ignore_index=True)\n",
    "    Y_Train_01 = Y.iloc[train_01_start:train_01_end,:]\n",
    "    Y_Train_02 = Y.iloc[train_02_start:train_02_end,:]\n",
    "    Y_Train = Y_Train_01.append(Y_Train_02,ignore_index=True)\n",
    "    X_Test = X.iloc[test_start:test_end,:]\n",
    "    Y_Test = Y.iloc[test_start:test_end,:]\n",
    "    \n",
    "    clf.fit(X_Train, Y_Train) \n",
    "    score = clf.score(X_Test, Y_Test)\n",
    "    total_score.append(score)\n",
    "    print('Accuracy of SVM classifier on test set: {:.2f}',score)\n",
    "\n",
    "score_overall = sum(total_score)/len(total_score)\n",
    "print('Accuracy of SVM classifier over all sets: {:.2f}', score_overall)\n",
    "    "
   ]
  },
  {
   "cell_type": "code",
   "execution_count": null,
   "metadata": {
    "collapsed": true
   },
   "outputs": [],
   "source": []
  },
  {
   "cell_type": "code",
   "execution_count": null,
   "metadata": {
    "collapsed": true
   },
   "outputs": [],
   "source": []
  }
 ],
 "metadata": {
  "kernelspec": {
   "display_name": "Python 2",
   "language": "python",
   "name": "python2"
  },
  "language_info": {
   "codemirror_mode": {
    "name": "ipython",
    "version": 2
   },
   "file_extension": ".py",
   "mimetype": "text/x-python",
   "name": "python",
   "nbconvert_exporter": "python",
   "pygments_lexer": "ipython2",
   "version": "2.7.13"
  }
 },
 "nbformat": 4,
 "nbformat_minor": 2
}
